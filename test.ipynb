{
 "cells": [
  {
   "cell_type": "code",
   "execution_count": 12,
   "id": "8388bbac",
   "metadata": {},
   "outputs": [
    {
     "name": "stdout",
     "output_type": "stream",
     "text": [
      "t=2025-06-17T21:21:17+0700 lvl=info msg=\"no configuration paths supplied\"\n",
      "\n",
      "t=2025-06-17T21:21:17+0700 lvl=info msg=\"using configuration at default config path\" path=C:\\\\Users\\\\hangh\\\\AppData\\\\Local/ngrok/ngrok.yml\n",
      "\n",
      "t=2025-06-17T21:21:17+0700 lvl=info msg=\"open config file\" path=C:\\\\Users\\\\hangh\\\\AppData\\\\Local\\\\ngrok\\\\ngrok.yml err=nil\n",
      "\n",
      "t=2025-06-17T21:21:17+0700 lvl=info msg=\"starting web service\" obj=web addr=127.0.0.1:4040 allow_hosts=[]\n",
      "\n",
      "t=2025-06-17T21:21:18+0700 lvl=info msg=\"client session established\" obj=tunnels.session\n",
      "\n",
      "t=2025-06-17T21:21:18+0700 lvl=info msg=\"tunnel session started\" obj=tunnels.session\n",
      "\n",
      "t=2025-06-17T21:21:18+0700 lvl=info msg=\"started tunnel\" obj=tunnels name=command_line addr=http://localhost:3978 url=https://4d64-116-110-42-205.ngrok-free.app\n"
     ]
    },
    {
     "data": {
      "text/plain": [
       "'https://4d64-116-110-42-205.ngrok-free.app'"
      ]
     },
     "execution_count": 12,
     "metadata": {},
     "output_type": "execute_result"
    }
   ],
   "source": [
    "import re\n",
    "\n",
    "def extract_ngrok_url_from_log(log_path=\"ngrok_logs/ngrok.log\", encoding=\"utf-8\", errors=\"ignore\"):\n",
    "    with open(log_path, \"r\", encoding=encoding, errors=errors) as f:\n",
    "        lines = f.readlines()\n",
    "\n",
    "    for line in lines:\n",
    "        clean_line = line.replace('\\x00', '').strip()\n",
    "        print(clean_line)\n",
    "        match = re.search(r\"url=(https://[a-zA-Z0-9\\-]+\\.ngrok-free.app)\", clean_line)\n",
    "        if match:\n",
    "            return match.group(1)\n",
    "\n",
    "    raise ValueError(\"No ngrok public URL found in log.\")\n",
    "\n",
    "\n",
    "extract_ngrok_url_from_log(log_path=\"C:/Users/hangh/ngrok_logs/ngrok.log\")"
   ]
  },
  {
   "cell_type": "code",
   "execution_count": 13,
   "id": "40955a6f",
   "metadata": {},
   "outputs": [
    {
     "name": "stdout",
     "output_type": "stream",
     "text": [
      "Image response status: 200\n",
      "Image content-type: image/png\n"
     ]
    }
   ],
   "source": [
    "import requests\n",
    "\n",
    "image_url = \"https://fbdc-116-110-42-205.ngrok-free.app/charts/d84fb0ff672f47c8ad9f824ca0147dc6.png\"\n",
    "\n",
    "resp = requests.get(image_url)\n",
    "print(\"Image response status:\", resp.status_code)\n",
    "print(\"Image content-type:\", resp.headers.get(\"Content-Type\"))"
   ]
  },
  {
   "cell_type": "code",
   "execution_count": null,
   "id": "2dba350d",
   "metadata": {},
   "outputs": [],
   "source": []
  }
 ],
 "metadata": {
  "kernelspec": {
   "display_name": "python39",
   "language": "python",
   "name": "python3"
  },
  "language_info": {
   "codemirror_mode": {
    "name": "ipython",
    "version": 3
   },
   "file_extension": ".py",
   "mimetype": "text/x-python",
   "name": "python",
   "nbconvert_exporter": "python",
   "pygments_lexer": "ipython3",
   "version": "3.9.21"
  }
 },
 "nbformat": 4,
 "nbformat_minor": 5
}
